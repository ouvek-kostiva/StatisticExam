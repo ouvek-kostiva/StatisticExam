{
 "cells": [
  {
   "cell_type": "code",
   "execution_count": 1,
   "metadata": {
    "collapsed": false,
    "scrolled": true
   },
   "outputs": [
    {
     "name": "stdout",
     "output_type": "stream",
     "text": [
      "['0001', '國立政治大學', 'D 日', 'D 博士', 113, 66, 91, 68, 90, 63, 77, 58, 86, 48, 84, 40, 64, 33, 0, 0, '30 臺北市', '1 一般']\n",
      "['0001', '國立政治大學', 'D 日', 'M 碩士', 617, 755, 622, 712, 352, 422, 217, 265, 0, 0, 0, 0, 0, 0, 0, 0, '30 臺北市', '1 一般']\n",
      "['0001', '國立政治大學', 'D 日', 'B 學士', 872, 1347, 1017, 1232, 850, 1367, 846, 1398, 0, 0, 0, 0, 0, 0, 327, 455, '30 臺北市', '1 一般']\n"
     ]
    }
   ],
   "source": [
    "rawdata = open(\"105_student.csv\",encoding=\"utf8\").read().splitlines()\n",
    "\n",
    "dataList = []\n",
    "for line in rawdata:\n",
    "    dataList.append(line.split(\",\"))\n",
    "    \n",
    "stuList = []\n",
    "for i in dataList[1:]:\n",
    "    AcaCode = i[0]\n",
    "    AcaName = i[1]\n",
    "    DayNight = i[2]\n",
    "    Level = i[3]\n",
    "    M1 = int(i[4])\n",
    "    F1 = int(i[5])\n",
    "    M2 = int(i[6])\n",
    "    F2 = int(i[7])\n",
    "    M3 = int(i[8])\n",
    "    F3 = int(i[9])\n",
    "    M4 = int(i[10])\n",
    "    F4 = int(i[11])\n",
    "    M5 = int(i[12])\n",
    "    F5 = int(i[13])\n",
    "    M6 = int(i[14])\n",
    "    F6 = int(i[15])\n",
    "    M7 = int(i[16])\n",
    "    F7 = int(i[17])\n",
    "    MX = int(i[18])\n",
    "    FX = int(i[19])\n",
    "    City = i[20]\n",
    "    Typ2 = i[21]\n",
    "    stuList.append([AcaCode,AcaName,DayNight,Level,M1,F1,M2,F2,M3,F3,M4,F4,M5,F5,M6,F6,M7,F7,MX,FX,City,Typ2])\n",
    "    \n",
    "for i in stuList[0:3]:\n",
    "    print(i)"
   ]
  },
  {
   "cell_type": "code",
   "execution_count": 2,
   "metadata": {
    "collapsed": false
   },
   "outputs": [
    {
     "name": "stdout",
     "output_type": "stream",
     "text": [
      "Database stuData.db  Successfully Created!\n"
     ]
    }
   ],
   "source": [
    "import sqlite3\n",
    "\n",
    "dbname = \"stuData.db\"\n",
    "table = \"universities\"\n",
    "conn = sqlite3.connect(dbname)\n",
    "c = conn.cursor()\n",
    "c.execute('CREATE TABLE {tn} (id INTEGER PRIMARY KEY, AcaCode TEXT, AcaName TEXT, DayNight TEXT, Level TEXT, M1 INTEGER, F1 INTEGER, M2 INTEGER, F2 INTEGER, M3 INTEGER, F3 INTEGER, M4 INTEGER, F4 INTEGER, M5 INTEGER, F5 INTEGER, M6 INTEGER, F6 INTEGER, M7 INTEGER, F7 INTEGER, MX INTEGER,FX INTEGER, City TEXT, Typ2 TEXT)'.format(tn=table))\n",
    "conn.commit()\n",
    "conn.close()\n",
    "print(\"Database\",dbname,\" Successfully Created!\")"
   ]
  },
  {
   "cell_type": "code",
   "execution_count": 3,
   "metadata": {
    "collapsed": false
   },
   "outputs": [],
   "source": [
    "dbname = \"stuData.db\"\n",
    "table = \"universities\"\n",
    "import sqlite3\n",
    "conn = sqlite3.connect(dbname)\n",
    "c = conn.cursor()\n",
    "count = 0\n",
    "for AcaCode,AcaName,DayNight,Level,M1,F1,M2,F2,M3,F3,M4,F4,M5,F5,M6,F6,M7,F7,MX,FX,City,Typ2 in stuList:\n",
    "    conn.execute(\"INSERT INTO universities (AcaCode,AcaName,DayNight,Level,M1,F1,M2,F2,M3,F3,M4,F4,M5,F5,M6,F6,M7,F7,MX,FX,City,Typ2) VALUES (?,?,?,?,?,?,?,?,?,?,?,?,?,?,?,?,?,?,?,?,?,?)\",(AcaCode,AcaName,DayNight,Level,M1,F1,M2,F2,M3,F3,M4,F4,M5,F5,M6,F6,M7,F7,MX,FX,City,Typ2))\n",
    "    count = count + 1\n",
    "conn.commit()\n",
    "conn.close()"
   ]
  },
  {
   "cell_type": "code",
   "execution_count": 5,
   "metadata": {
    "collapsed": false
   },
   "outputs": [
    {
     "name": "stdout",
     "output_type": "stream",
     "text": [
      "取得資料行數: 71\n",
      "[(336, '1015', '世新大學', 'P 進', 'B 學士', 28, 32, 30, 42, 21, 52, 0, 0, 0, 0, 0, 0, 0, 0, 0, 0, '30 臺北市', '1 一般')]\n",
      "[(732, '1125', '中信金融管理學院', 'P 進', 'B 學士', 0, 0, 0, 0, 0, 0, 1, 0, 0, 0, 0, 0, 0, 0, 1, 0, '21 臺南市', '1 一般')]\n",
      "[(276, '1004', '中原大學', 'D 日', 'B 學士', 1714, 1517, 1834, 1457, 1791, 1409, 1618, 1345, 68, 80, 0, 0, 0, 0, 441, 185, '03 桃園市', '1 一般')]\n"
     ]
    }
   ],
   "source": [
    "def queryDB(sqlite_file, QueryStatement):\n",
    "    import sqlite3\n",
    "    sqlite_file = sqlite_file\n",
    "    conn = sqlite3.connect(sqlite_file)\n",
    "    c = conn.cursor()\n",
    "    out = conn.execute(QueryStatement) \n",
    "    dbData = []\n",
    "    for i in out:\n",
    "        dbData.append([i])\n",
    "    conn.close()\n",
    "    print(\"取得資料行數:\", len(dbData))\n",
    "    return dbData\n",
    "\n",
    "QueryStatement = \"SELECT * FROM universities WHERE `Level` LIKE '%學士%' GROUP BY AcaName;\"\n",
    "dbData = queryDB(\"stuData.db\", QueryStatement)\n",
    "\n",
    "for i in dbData[0:3]:\n",
    "    print(i)"
   ]
  },
  {
   "cell_type": "code",
   "execution_count": 48,
   "metadata": {
    "collapsed": false
   },
   "outputs": [
    {
     "name": "stdout",
     "output_type": "stream",
     "text": [
      "取得資料行數: 97\n",
      "取得資料行數: 48\n",
      "國立大學延畢率: 0.03687447134398646 延畢人數: 8065 如期畢業人數: 210650\n",
      "私立大學延畢率: 0.040673808863562685 延畢人數: 20828 如期畢業人數: 491246\n"
     ]
    }
   ],
   "source": [
    "PriQueryStatement = \"WITH tempTable AS ( SELECT * FROM universities WHERE DayNight LIKE '%日%' AND (`Level` LIKE '%學士%' OR `Level` LIKE '%四技%') ) SELECT * FROM tempTable WHERE AcaName NOT LIKE '%國立%' GROUP BY AcaCode;\"\n",
    "dbDataPrivate = queryDB(\"stuData.db\", PriQueryStatement)\n",
    "privateAca = []\n",
    "for i in dbDataPrivate:\n",
    "    privateAca.append([i[0][2],i[0][5:12],i[0][13:20]])\n",
    "    \n",
    "PubQueryStatement = \"WITH tempTable AS ( SELECT * FROM universities WHERE DayNight LIKE '%日%' AND (`Level` LIKE '%學士%' OR `Level` LIKE '%四技%') ) SELECT * FROM tempTable WHERE AcaName LIKE '%國立%' GROUP BY AcaCode;\"\n",
    "dbDataPublic = queryDB(\"stuData.db\", PubQueryStatement)    \n",
    "publicAca = []\n",
    "for i in dbDataPublic:\n",
    "    publicAca.append([i[0][2],i[0][5:12],i[0][13:20]])\n",
    "    \n",
    "extensionPublic = 0\n",
    "ontimePublic = 0\n",
    "for i in publicAca:\n",
    "    ontimePublic = ontimePublic + sum(i[1])    \n",
    "    extensionPublic = extensionPublic + sum(i[2])\n",
    "print(\"國立大學延畢率:\",extensionPublic/(ontimePublic+extensionPublic),\"延畢人數:\",extensionPublic,\"如期畢業人數:\",ontimePublic)\n",
    "\n",
    "extensionPrivate = 0\n",
    "ontimePrivate = 0\n",
    "for i in privateAca:\n",
    "    ontimePrivate = ontimePrivate + sum(i[1])    \n",
    "    extensionPrivate = extensionPrivate + sum(i[2])\n",
    "print(\"私立大學延畢率:\",extensionPrivate/(ontimePrivate+extensionPrivate),\"延畢人數:\",extensionPrivate,\"如期畢業人數:\",ontimePrivate)"
   ]
  },
  {
   "cell_type": "code",
   "execution_count": 44,
   "metadata": {
    "collapsed": false
   },
   "outputs": [
    {
     "name": "stdout",
     "output_type": "stream",
     "text": [
      "取得資料行數: 264\n",
      "男碩士: 93583\n",
      "女碩士: 75955\n",
      "取得資料行數: 83\n",
      "男博士: 19464\n",
      "女博士: 9357\n"
     ]
    }
   ],
   "source": [
    "MastersQueryStatement = \"SELECT * FROM universities WHERE `Level` LIKE '%碩士%'\"\n",
    "dbDataMasters = queryDB(\"stuData.db\", MastersQueryStatement)\n",
    "\n",
    "bMasters = 0\n",
    "gMasters = 0\n",
    "for i in dbDataMasters:\n",
    "    bMasters = bMasters + i[0][5] + i[0][7] + i[0][9] + i[0][11] + i[0][13] + i[0][15] +i[0][17]\n",
    "    gMasters = gMasters + i[0][6] + i[0][8] + i[0][10] + i[0][12] + i[0][14] + i[0][16] +i[0][18]\n",
    "print(\"男碩士:\",bMasters)\n",
    "print(\"女碩士:\",gMasters)\n",
    "\n",
    "PHDQueryStatement = \"SELECT * FROM universities WHERE `Level` LIKE '%博士%'\"\n",
    "dbDataPHD = queryDB(\"stuData.db\", PHDQueryStatement)\n",
    "\n",
    "bPHD = 0\n",
    "gPHD = 0\n",
    "for i in dbDataPHD:\n",
    "    bPHD = bPHD + i[0][5] + i[0][7] + i[0][9] + i[0][11] + i[0][13] + i[0][15] +i[0][17]\n",
    "    gPHD = gPHD + i[0][6] + i[0][8] + i[0][10] + i[0][12] + i[0][14] + i[0][16] +i[0][18]\n",
    "print(\"男博士:\",bPHD)\n",
    "print(\"女博士:\",gPHD)"
   ]
  },
  {
   "cell_type": "code",
   "execution_count": 47,
   "metadata": {
    "collapsed": false
   },
   "outputs": [
    {
     "name": "stdout",
     "output_type": "stream",
     "text": [
      "取得資料行數: 145\n",
      "男 大一: 98935 大二: 102466 大三: 99975 大四: 96759\n",
      "女 大一: 99530 大二: 102445 大三: 101786 大四: 99048\n"
     ]
    }
   ],
   "source": [
    "BGQueryStatement = \"SELECT * FROM universities WHERE DayNight LIKE '%日%' AND ( `Level` LIKE '%學士%' OR `Level` LIKE '%四技%')\"\n",
    "dbDataBG = queryDB(\"stuData.db\", BGQueryStatement)\n",
    "\n",
    "M1 = 0\n",
    "M2 = 0\n",
    "M3 = 0\n",
    "M4 = 0\n",
    "F1 = 0\n",
    "F2 = 0\n",
    "F3 = 0\n",
    "F4 = 0\n",
    "for i in dbDataBG:\n",
    "    M1 = M1 + i[0][5]\n",
    "    M2 = M2 + i[0][7]\n",
    "    M3 = M3 + i[0][9]\n",
    "    M4 = M4 + i[0][11]\n",
    "    F1 = F1 + i[0][6]\n",
    "    F2 = F2 + i[0][8]\n",
    "    F3 = F3 + i[0][10]\n",
    "    F4 = F4 + i[0][12]\n",
    "print(\"男 大一:\",M1,\"大二:\",M2,\"大三:\",M3,\"大四:\",M4)\n",
    "print(\"女 大一:\",F1,\"大二:\",F2,\"大三:\",F3,\"大四:\",F4)"
   ]
  },
  {
   "cell_type": "code",
   "execution_count": 52,
   "metadata": {
    "collapsed": false
   },
   "outputs": [
    {
     "name": "stdout",
     "output_type": "stream",
     "text": [
      "取得資料行數: 136\n",
      "國立男碩博: 79309\n",
      "國立女碩博: 56262\n",
      "取得資料行數: 211\n",
      "私立男碩博: 33738\n",
      "私立女碩博: 29050\n"
     ]
    }
   ],
   "source": [
    "NationalQueryStatement = \"WITH tempTable AS ( SELECT * FROM universities WHERE `Level` LIKE '%博士%' OR `Level` LIKE '%碩士%' ) SELECT * FROM tempTable WHERE AcaName LIKE '%國立%'\"\n",
    "dbDataNational = queryDB(\"stuData.db\", NationalQueryStatement)\n",
    "\n",
    "bNational = 0\n",
    "gNational = 0\n",
    "for i in dbDataNational:\n",
    "    bNational = bNational + i[0][5] + i[0][7] + i[0][9] + i[0][11] + i[0][13] + i[0][15] +i[0][17]\n",
    "    gNational = gNational + i[0][6] + i[0][8] + i[0][10] + i[0][12] + i[0][14] + i[0][16] +i[0][18]\n",
    "print(\"國立男碩博:\",bNational)\n",
    "print(\"國立女碩博:\",gNational)\n",
    "\n",
    "PrivateQueryStatement = \"WITH tempTable AS ( SELECT * FROM universities WHERE `Level` LIKE '%博士%' OR `Level` LIKE '%碩士%' ) SELECT * FROM tempTable WHERE AcaName NOT LIKE '%國立%'\"\n",
    "dbDataPrivate = queryDB(\"stuData.db\", PrivateQueryStatement)\n",
    "\n",
    "bPrivate = 0\n",
    "gPrivate = 0\n",
    "for i in dbDataPrivate:\n",
    "    bPrivate = bPrivate + i[0][5] + i[0][7] + i[0][9] + i[0][11] + i[0][13] + i[0][15] +i[0][17]\n",
    "    gPrivate = gPrivate + i[0][6] + i[0][8] + i[0][10] + i[0][12] + i[0][14] + i[0][16] +i[0][18]\n",
    "print(\"私立男碩博:\",bPrivate)\n",
    "print(\"私立女碩博:\",gPrivate)"
   ]
  },
  {
   "cell_type": "code",
   "execution_count": 64,
   "metadata": {
    "collapsed": false
   },
   "outputs": [
    {
     "name": "stdout",
     "output_type": "stream",
     "text": [
      "取得資料行數: 24\n",
      "新北市\n"
     ]
    }
   ],
   "source": [
    "GetCities = \"SELECT city FROM universities GROUP BY city\"\n",
    "listCities = queryDB(\"stuData.db\", GetCities)\n",
    "\n",
    "cities = []\n",
    "for i in listCities:\n",
    "    cities.append(i[0][0])\n",
    "print(cities[0][-3:])"
   ]
  },
  {
   "cell_type": "code",
   "execution_count": 72,
   "metadata": {
    "collapsed": false
   },
   "outputs": [
    {
     "name": "stdout",
     "output_type": "stream",
     "text": [
      "取得資料行數: 35\n",
      "新北市: 10204\n",
      "取得資料行數: 4\n",
      "宜蘭縣: 7947\n",
      "取得資料行數: 16\n",
      "桃園市: 21207\n",
      "取得資料行數: 4\n",
      "新竹縣: 13077\n",
      "取得資料行數: 5\n",
      "苗栗縣: 10583\n",
      "取得資料行數: 32\n",
      "臺中市: 12503\n",
      "取得資料行數: 9\n",
      "彰化縣: 15268\n",
      "取得資料行數: 3\n",
      "南投縣: 9105\n",
      "取得資料行數: 5\n",
      "雲林縣: 14997\n",
      "取得資料行數: 7\n",
      "嘉義縣: 11217\n",
      "取得資料行數: 24\n",
      "臺南市: 16108\n",
      "取得資料行數: 27\n",
      "高雄市: 12524\n",
      "取得資料行數: 8\n",
      "屏東縣: 16128\n",
      "取得資料行數: 2\n",
      "臺東縣: 3721\n",
      "取得資料行數: 7\n",
      "花蓮縣: 11811\n",
      "取得資料行數: 2\n",
      "澎湖縣: 2897\n",
      "取得資料行數: 5\n",
      "基隆市: 8048\n",
      "取得資料行數: 9\n",
      "新竹市: 14484\n",
      "取得資料行數: 32\n",
      "臺中市: 12503\n",
      "取得資料行數: 4\n",
      "嘉義市: 11486\n",
      "取得資料行數: 24\n",
      "臺南市: 16108\n",
      "取得資料行數: 36\n",
      "臺北市: 34238\n",
      "取得資料行數: 27\n",
      "高雄市: 12524\n",
      "取得資料行數: 2\n",
      "金門縣: 4249\n"
     ]
    }
   ],
   "source": [
    "city = cities[0][-3:]\n",
    "for city in cities:\n",
    "    city = city[-3:]\n",
    "    uniCity = \"SELECT * FROM universities WHERE City LIKE '%{}%' AND ( `Level` LIKE '%學士%' OR `Level` LIKE '%四技%')\".format(city)\n",
    "    listUniCity = queryDB(\"stuData.db\", uniCity)\n",
    "\n",
    "    studentSum = 0\n",
    "    for i in listUniCity[0:3]:\n",
    "        studentSum = studentSum + sum(i[0][5:21])\n",
    "    print(\"{}:\".format(city),studentSum)"
   ]
  },
  {
   "cell_type": "code",
   "execution_count": 78,
   "metadata": {
    "collapsed": false
   },
   "outputs": [
    {
     "name": "stdout",
     "output_type": "stream",
     "text": [
      "取得資料行數: 12\n",
      "師範 男: 13032 女: 16299\n",
      "取得資料行數: 139\n",
      "技職 男: 233300 女: 213434\n",
      "取得資料行數: 107\n",
      "普通 男: 237477 女: 250062\n"
     ]
    }
   ],
   "source": [
    "teacherQuery = \"SELECT * FROM universities WHERE AcaName LIKE '%師範%'\"\n",
    "teacherList = queryDB(\"stuData.db\", teacherQuery)\n",
    "\n",
    "bTeacher = 0\n",
    "gTeacher = 0\n",
    "for i in teacherList:\n",
    "    bTeacher = bTeacher + i[0][5] + i[0][7] + i[0][9] + i[0][11] + i[0][13] + i[0][15] +i[0][17]\n",
    "    gTeacher = gTeacher + i[0][6] + i[0][8] + i[0][10] + i[0][12] + i[0][14] + i[0][16] +i[0][18]\n",
    "print(\"師範 男:\", bTeacher,\"女:\",gTeacher)\n",
    "\n",
    "techQuery = \"SELECT * FROM universities WHERE `Level` LIKE '%四技%'\"\n",
    "techList = queryDB(\"stuData.db\", techQuery)\n",
    "\n",
    "bTech = 0\n",
    "gTech = 0\n",
    "for i in techList:\n",
    "    bTech = bTech + i[0][5] + i[0][7] + i[0][9] + i[0][11] + i[0][13] + i[0][15] +i[0][17]\n",
    "    gTech = gTech + i[0][6] + i[0][8] + i[0][10] + i[0][12] + i[0][14] + i[0][16] +i[0][18]\n",
    "print(\"技職 男:\", bTech,\"女:\",gTech)\n",
    "\n",
    "collegeQuery = \"SELECT * FROM universities WHERE `Level` LIKE '%學士%'\"\n",
    "collegeList = queryDB(\"stuData.db\", collegeQuery)\n",
    "\n",
    "bCollege = 0\n",
    "gCollege = 0\n",
    "for i in collegeList:\n",
    "    bCollege = bCollege + i[0][5] + i[0][7] + i[0][9] + i[0][11] + i[0][13] + i[0][15] +i[0][17]\n",
    "    gCollege = gCollege + i[0][6] + i[0][8] + i[0][10] + i[0][12] + i[0][14] + i[0][16] +i[0][18]\n",
    "print(\"普通 男:\", bCollege,\"女:\",gCollege)"
   ]
  },
  {
   "cell_type": "code",
   "execution_count": 65,
   "metadata": {
    "collapsed": false
   },
   "outputs": [],
   "source": [
    "ListMale = []\n",
    "ListFemale = []\n",
    "\n",
    "for i in stuList:\n",
    "    ListMale.extend(map(int,[i[5] , i[7] , i[9] , i[11] , i[13] , i[15] , i[17] , i[19]]))\n",
    "    ListFemale.extend(map(int,[i[6] , i[8] , i[10] , i[12] , i[14] , i[16] , i[18] , i[20]]))"
   ]
  },
  {
   "cell_type": "code",
   "execution_count": 69,
   "metadata": {
    "collapsed": false
   },
   "outputs": [
    {
     "name": "stdout",
     "output_type": "stream",
     "text": [
      "男學生總數: 646866 平均: 95.0155699177 標準差: 253.452331542 峰度: 27.176562477234395 偏態 4.622458027103874\n",
      "女學生總數: 662575 平均: 97.3230023502 標準差: 262.811386773 峰度: 29.21221456102535 偏態 4.761609223677928\n"
     ]
    }
   ],
   "source": [
    "import numpy\n",
    "import scipy\n",
    "mNPList = numpy.array(ListMale)\n",
    "fNPList = numpy.array(ListFemale)\n",
    "print(\"男學生總數:\",sum(ListMale),\"平均:\",numpy.mean(mNPList, axis=0),\"標準差:\",numpy.std(mNPList,axis=0),\"峰度:\",scipy.stats.kurtosis(ListMale),\"偏態\",scipy.stats.skew(ListMale))\n",
    "print(\"女學生總數:\",sum(ListFemale),\"平均:\",numpy.mean(fNPList, axis=0),\"標準差:\",numpy.std(fNPList,axis=0),\"峰度:\",scipy.stats.kurtosis(ListFemale),\"偏態\",scipy.stats.skew(ListFemale))"
   ]
  }
 ],
 "metadata": {
  "kernelspec": {
   "display_name": "Python 3",
   "language": "python",
   "name": "python3"
  },
  "language_info": {
   "codemirror_mode": {
    "name": "ipython",
    "version": 3
   },
   "file_extension": ".py",
   "mimetype": "text/x-python",
   "name": "python",
   "nbconvert_exporter": "python",
   "pygments_lexer": "ipython3",
   "version": "3.6.0"
  }
 },
 "nbformat": 4,
 "nbformat_minor": 2
}
