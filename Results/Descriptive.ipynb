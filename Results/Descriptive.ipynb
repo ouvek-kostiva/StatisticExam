{
 "cells": [
  {
   "cell_type": "code",
   "execution_count": 57,
   "metadata": {
    "collapsed": false,
    "scrolled": true
   },
   "outputs": [
    {
     "name": "stdout",
     "output_type": "stream",
     "text": [
      "['0001', '國立政治大學', 'D 日', 'M 碩士', 'D 博士', 113, 66, 91, 68, 90, 63, 77, 58, 86, 48, 84, 40, 64, 33, 0, 0, '30 臺北市', '1 一般']\n",
      "['0001', '國立政治大學', 'D 日', 'M 碩士', 'M 碩士', 617, 755, 622, 712, 352, 422, 217, 265, 0, 0, 0, 0, 0, 0, 0, 0, '30 臺北市', '1 一般']\n",
      "['0001', '國立政治大學', 'D 日', 'M 碩士', 'B 學士', 872, 1347, 1017, 1232, 850, 1367, 846, 1398, 0, 0, 0, 0, 0, 0, 327, 455, '30 臺北市', '1 一般']\n"
     ]
    }
   ],
   "source": [
    "rawdata = open(\"105_student.csv\",encoding=\"utf8\").read().splitlines()\n",
    "\n",
    "dataList = []\n",
    "for line in rawdata:\n",
    "    dataList.append(line.split(\",\"))\n",
    "    \n",
    "stuList = []\n",
    "for i in dataList[1:]:\n",
    "    AcaCode = i[0]\n",
    "    AcaName = i[1]\n",
    "    DayNight = i[2]\n",
    "    Level = i[3]\n",
    "    M1 = int(i[4])\n",
    "    F1 = int(i[5])\n",
    "    M2 = int(i[6])\n",
    "    F2 = int(i[7])\n",
    "    M3 = int(i[8])\n",
    "    F3 = int(i[9])\n",
    "    M4 = int(i[10])\n",
    "    F4 = int(i[11])\n",
    "    M5 = int(i[12])\n",
    "    F5 = int(i[13])\n",
    "    M6 = int(i[14])\n",
    "    F6 = int(i[15])\n",
    "    M7 = int(i[16])\n",
    "    F7 = int(i[17])\n",
    "    MX = int(i[18])\n",
    "    FX = int(i[19])\n",
    "    City = i[20]\n",
    "    Typ2 = i[21]\n",
    "    stuList.append([AcaCode,AcaName,DayNight,Typ1,Level,M1,F1,M2,F2,M3,F3,M4,F4,M5,F5,M6,F6,M7,F7,MX,FX,City,Typ2])\n",
    "    \n",
    "for i in stuList[0:3]:\n",
    "    print(i)"
   ]
  },
  {
   "cell_type": "code",
   "execution_count": 65,
   "metadata": {
    "collapsed": false
   },
   "outputs": [],
   "source": [
    "ListMale = []\n",
    "ListFemale = []\n",
    "\n",
    "for i in stuList:\n",
    "    ListMale.extend(map(int,[i[5] , i[7] , i[9] , i[11] , i[13] , i[15] , i[17] , i[19]]))\n",
    "    ListFemale.extend(map(int,[i[6] , i[8] , i[10] , i[12] , i[14] , i[16] , i[18] , i[20]]))"
   ]
  },
  {
   "cell_type": "code",
   "execution_count": 69,
   "metadata": {
    "collapsed": false
   },
   "outputs": [
    {
     "name": "stdout",
     "output_type": "stream",
     "text": [
      "男學生總數: 646866 平均: 95.0155699177 標準差: 253.452331542 峰度: 27.176562477234395 偏態 4.622458027103874\n",
      "女學生總數: 662575 平均: 97.3230023502 標準差: 262.811386773 峰度: 29.21221456102535 偏態 4.761609223677928\n"
     ]
    }
   ],
   "source": [
    "import numpy\n",
    "import scipy\n",
    "mNPList = numpy.array(ListMale)\n",
    "fNPList = numpy.array(ListFemale)\n",
    "print(\"男學生總數:\",sum(ListMale),\"平均:\",numpy.mean(mNPList, axis=0),\"標準差:\",numpy.std(mNPList,axis=0),\"峰度:\",scipy.stats.kurtosis(ListMale),\"偏態\",scipy.stats.skew(ListMale))\n",
    "print(\"女學生總數:\",sum(ListFemale),\"平均:\",numpy.mean(fNPList, axis=0),\"標準差:\",numpy.std(fNPList,axis=0),\"峰度:\",scipy.stats.kurtosis(ListFemale),\"偏態\",scipy.stats.skew(ListFemale))"
   ]
  }
 ],
 "metadata": {
  "kernelspec": {
   "display_name": "Python 3",
   "language": "python",
   "name": "python3"
  },
  "language_info": {
   "codemirror_mode": {
    "name": "ipython",
    "version": 3
   },
   "file_extension": ".py",
   "mimetype": "text/x-python",
   "name": "python",
   "nbconvert_exporter": "python",
   "pygments_lexer": "ipython3",
   "version": "3.6.0"
  }
 },
 "nbformat": 4,
 "nbformat_minor": 2
}
